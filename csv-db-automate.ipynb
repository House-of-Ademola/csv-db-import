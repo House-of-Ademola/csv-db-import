{
 "cells": [
  {
   "cell_type": "code",
   "execution_count": 458,
   "metadata": {
    "collapsed": false
   },
   "outputs": [],
   "source": [
    "# Import Libraries\n",
    "# Conda Install Libraries\n",
    "# Pip Install Libraries\n",
    "\n",
    "import pandas as pd\n",
    "import numpy as np\n",
    "from psycopg2.pool import ThreadedConnectionPool\n",
    "import psycopg2"
   ]
  },
  {
   "cell_type": "code",
   "execution_count": 459,
   "outputs": [
    {
     "name": "stdout",
     "output_type": "stream",
     "text": [
      "Customer Contracts$.csv  Makefile                 customer_contracts.csv\r\n",
      "Customer Demo.csv        csv-db-automate.ipynb    requirements.txt\r\n",
      "Customer Engagements.csv \u001B[1m\u001B[36mcsv-db-automation\u001B[m\u001B[m\r\n"
     ]
    }
   ],
   "source": [
    "!ls"
   ],
   "metadata": {
    "collapsed": false
   }
  },
  {
   "cell_type": "code",
   "execution_count": 460,
   "outputs": [
    {
     "data": {
      "text/plain": "  customer_name  start_date    end_date  contract_amount_m invoice_sent paid\n0          Nike  01-02-2019  12-20-2020               2.98          Yes  Yes\n1        Reebox  06-20-2017         NaN               3.90           No   No\n2        Adidas  12-07-2015   6-20-2018               4.82          Yes  Yes\n3        Google  05-25-2014  03-20-2017               5.74          Yes   No\n4        Amazon  11-10-2012  12-20-2015               6.66           No  Yes",
      "text/html": "<div>\n<style scoped>\n    .dataframe tbody tr th:only-of-type {\n        vertical-align: middle;\n    }\n\n    .dataframe tbody tr th {\n        vertical-align: top;\n    }\n\n    .dataframe thead th {\n        text-align: right;\n    }\n</style>\n<table border=\"1\" class=\"dataframe\">\n  <thead>\n    <tr style=\"text-align: right;\">\n      <th></th>\n      <th>customer_name</th>\n      <th>start_date</th>\n      <th>end_date</th>\n      <th>contract_amount_m</th>\n      <th>invoice_sent</th>\n      <th>paid</th>\n    </tr>\n  </thead>\n  <tbody>\n    <tr>\n      <th>0</th>\n      <td>Nike</td>\n      <td>01-02-2019</td>\n      <td>12-20-2020</td>\n      <td>2.98</td>\n      <td>Yes</td>\n      <td>Yes</td>\n    </tr>\n    <tr>\n      <th>1</th>\n      <td>Reebox</td>\n      <td>06-20-2017</td>\n      <td>NaN</td>\n      <td>3.90</td>\n      <td>No</td>\n      <td>No</td>\n    </tr>\n    <tr>\n      <th>2</th>\n      <td>Adidas</td>\n      <td>12-07-2015</td>\n      <td>6-20-2018</td>\n      <td>4.82</td>\n      <td>Yes</td>\n      <td>Yes</td>\n    </tr>\n    <tr>\n      <th>3</th>\n      <td>Google</td>\n      <td>05-25-2014</td>\n      <td>03-20-2017</td>\n      <td>5.74</td>\n      <td>Yes</td>\n      <td>No</td>\n    </tr>\n    <tr>\n      <th>4</th>\n      <td>Amazon</td>\n      <td>11-10-2012</td>\n      <td>12-20-2015</td>\n      <td>6.66</td>\n      <td>No</td>\n      <td>Yes</td>\n    </tr>\n  </tbody>\n</table>\n</div>"
     },
     "execution_count": 460,
     "metadata": {},
     "output_type": "execute_result"
    }
   ],
   "source": [
    "df  = pd.read_csv('Customer Contracts$.csv')\n",
    "df.head()"
   ],
   "metadata": {
    "collapsed": false
   }
  },
  {
   "cell_type": "code",
   "execution_count": 461,
   "outputs": [
    {
     "data": {
      "text/plain": "'customer_contracts'"
     },
     "execution_count": 461,
     "metadata": {},
     "output_type": "execute_result"
    }
   ],
   "source": [
    "# Clean table names\n",
    "# Lower case letters\n",
    "# Remove all white spaces\n",
    "# Replace -, /, \\\\, $ with _\n",
    "\n",
    "file = 'Customer Contracts$'\n",
    "clean_tbl_name = file.lower().replace(\" \",\"_\").replace(\"?\",\"\"). \\\n",
    "    replace(\"-\",\"_\").replace(r\"/\",\"_\").replace(\"\\\\\",\"_\") \\\n",
    "    .replace(\"%\",\"\").replace(\")\",\"\").replace(r\"(\",\"\").replace(\"$\",\"\")\n",
    "\n",
    "clean_tbl_name"
   ],
   "metadata": {
    "collapsed": false
   }
  },
  {
   "cell_type": "code",
   "execution_count": 462,
   "outputs": [
    {
     "data": {
      "text/plain": "Index(['customer_name', 'start_date', 'end_date', 'contract_amount_m',\n       'invoice_sent', 'paid'],\n      dtype='object')"
     },
     "execution_count": 462,
     "metadata": {},
     "output_type": "execute_result"
    }
   ],
   "source": [
    "# Clean header names\n",
    "# Lower case letters\n",
    "# Remove all white spaces\n",
    "# Replace -, /, \\\\, $ with _\n",
    "df.columns = [x.lower().replace(\" \",\"_\").replace(\"?\",\"\"). \\\n",
    "    replace(\"-\",\"_\").replace(r\"/\",\"_\").replace(\"\\\\\",\"_\") \\\n",
    "    .replace(\"%\",\"\").replace(\")\",\"\").replace(r\"(\",\"\").replace(\"$\",\"\") for x in df.columns]\n",
    "\n",
    "df.columns"
   ],
   "metadata": {
    "collapsed": false
   }
  },
  {
   "cell_type": "code",
   "execution_count": 463,
   "outputs": [
    {
     "data": {
      "text/plain": "'\\ncreate table customer_contracts\\n(\\n   customer_name       varchar,\\n   start_date          varchar,\\n   end_date            varchar,\\n   contract_amount_m   float,\\n   invoice_sent        varchar,\\n   paid                varchar\\n);\\n'"
     },
     "execution_count": 463,
     "metadata": {},
     "output_type": "execute_result"
    }
   ],
   "source": [
    "\"\"\"\n",
    "create table customer_contracts\n",
    "(\n",
    "   customer_name       varchar,\n",
    "   start_date          varchar,\n",
    "   end_date            varchar,\n",
    "   contract_amount_m   float,\n",
    "   invoice_sent        varchar,\n",
    "   paid                varchar\n",
    ");\n",
    "\"\"\""
   ],
   "metadata": {
    "collapsed": false
   }
  },
  {
   "cell_type": "code",
   "execution_count": 464,
   "outputs": [
    {
     "data": {
      "text/plain": "customer_name         object\nstart_date            object\nend_date              object\ncontract_amount_m    float64\ninvoice_sent          object\npaid                  object\ndtype: object"
     },
     "execution_count": 464,
     "metadata": {},
     "output_type": "execute_result"
    }
   ],
   "source": [
    "df.dtypes"
   ],
   "metadata": {
    "collapsed": false
   }
  },
  {
   "cell_type": "code",
   "execution_count": 465,
   "outputs": [
    {
     "data": {
      "text/plain": "{'object': 'varchar',\n 'float64': 'float',\n 'int64': 'int',\n 'datetime64': 'timestamp',\n 'timedelta64[ns]': 'varchar'}"
     },
     "execution_count": 465,
     "metadata": {},
     "output_type": "execute_result"
    }
   ],
   "source": [
    "replacements = {\n",
    "    'object' : 'varchar',\n",
    "    'float64' : 'float',\n",
    "    'int64' : 'int',\n",
    "    'datetime64' : 'timestamp',\n",
    "    'timedelta64[ns]' : 'varchar'\n",
    "}\n",
    "\n",
    "replacements"
   ],
   "metadata": {
    "collapsed": false
   }
  },
  {
   "cell_type": "code",
   "execution_count": 466,
   "outputs": [
    {
     "data": {
      "text/plain": "'customer_name varchar, start_date varchar, end_date varchar, contract_amount_m float, invoice_sent varchar, paid varchar'"
     },
     "execution_count": 466,
     "metadata": {},
     "output_type": "execute_result"
    }
   ],
   "source": [
    "col_str = \", \".join(\"{} {}\".format(n, d) for (n, d) in zip(df.columns, df.dtypes.replace(replacements)))\n",
    "col_str"
   ],
   "metadata": {
    "collapsed": false
   }
  },
  {
   "cell_type": "code",
   "execution_count": 467,
   "outputs": [
    {
     "data": {
      "text/plain": "Index(['customer_name', 'start_date', 'end_date', 'contract_amount_m',\n       'invoice_sent', 'paid'],\n      dtype='object')"
     },
     "execution_count": 467,
     "metadata": {},
     "output_type": "execute_result"
    }
   ],
   "source": [
    "df.columns"
   ],
   "metadata": {
    "collapsed": false
   }
  },
  {
   "cell_type": "code",
   "execution_count": 468,
   "outputs": [],
   "source": [
    "# Enter the values for your database\n",
    "# dsn_dbname = \"pyautomation\"\n",
    "# dsn_host = \"192.168.1.12\"\n",
    "# dsn_port = \"5432\"\n",
    "# dsn_user = \"root\"\n",
    "# dsn_pass = \"secret\""
   ],
   "metadata": {
    "collapsed": false
   }
  },
  {
   "cell_type": "code",
   "execution_count": 469,
   "outputs": [],
   "source": [
    "# Open a database connection\n",
    "# conn_string = \"host=\"+dsn_host+\" port=\"+dsn_port+\" dbname=\"+dsn_dbname+\" user=\"+dsn_user+\" pass=\"+dsn_pass\n",
    "#\n",
    "# conn = psycopg2.connect(conn_string)"
   ],
   "metadata": {
    "collapsed": false
   }
  },
  {
   "cell_type": "code",
   "execution_count": 470,
   "outputs": [],
   "source": [
    "# conn_string = ThreadedConnectionPool(minconn=1, maxconn=5, \"host='localhost' dbname='pyautomation' user='root' password='secret' port='5432' options='-c search_path=dbo,public'\")\n",
    "# print (\"Connecting to database\\n ->%s\" % (conn_string))\n",
    "#\n",
    "# conn = psycopg2.connect(conn_string)\n",
    "# cursor = conn.cursor()\n",
    "# print('opened database successfully')"
   ],
   "metadata": {
    "collapsed": false
   }
  },
  {
   "cell_type": "code",
   "execution_count": 471,
   "outputs": [
    {
     "name": "stdout",
     "output_type": "stream",
     "text": [
      "Connecting to database\n",
      " ->host='localhost' dbname='pyautomation' user='root' password='secret' port='5432' options='-c search_path=dbo,public'\n",
      "opened database successfully\n"
     ]
    }
   ],
   "source": [
    "conn_string = \"host='localhost' dbname='pyautomation' user='root' password='secret' port='5432' options='-c search_path=dbo,public'\"\n",
    "\n",
    "print (\"Connecting to database\\n ->%s\" % (conn_string))\n",
    "\n",
    "conn = psycopg2.connect(conn_string)\n",
    "cursor = conn.cursor()\n",
    "print(\"opened database successfully\")\n"
   ],
   "metadata": {
    "collapsed": false
   }
  },
  {
   "cell_type": "code",
   "execution_count": 472,
   "outputs": [
    {
     "data": {
      "text/plain": "'customer_contracts'"
     },
     "execution_count": 472,
     "metadata": {},
     "output_type": "execute_result"
    }
   ],
   "source": [
    "clean_tbl_name"
   ],
   "metadata": {
    "collapsed": false
   }
  },
  {
   "cell_type": "code",
   "execution_count": 473,
   "outputs": [],
   "source": [
    "# Drop tables with same name\n",
    "cursor.execute(\"drop table if exists customer_contracts;\")"
   ],
   "metadata": {
    "collapsed": false
   }
  },
  {
   "cell_type": "code",
   "execution_count": 474,
   "outputs": [
    {
     "data": {
      "text/plain": "'customer_name varchar, start_date varchar, end_date varchar, contract_amount_m float, invoice_sent varchar, paid varchar'"
     },
     "execution_count": 474,
     "metadata": {},
     "output_type": "execute_result"
    }
   ],
   "source": [
    "# Call columns again\n",
    "col_str"
   ],
   "metadata": {
    "collapsed": false
   }
  },
  {
   "cell_type": "code",
   "execution_count": 475,
   "outputs": [],
   "source": [
    "# Create table\n",
    "cursor.execute(\"create table customer_contracts \\\n",
    "               (customer_name      varchar, \\\n",
    "               start_date          varchar, \\\n",
    "               end_date            varchar, \\\n",
    "               contract_amount_m   float, \\\n",
    "               invoice_sent        varchar, \\\n",
    "               paid                varchar)\")"
   ],
   "metadata": {
    "collapsed": false
   }
  },
  {
   "cell_type": "code",
   "execution_count": 476,
   "outputs": [
    {
     "name": "stdout",
     "output_type": "stream",
     "text": [
      "('customer_contracts',)\n"
     ]
    }
   ],
   "source": [
    "cursor.execute(\"SELECT table_name FROM information_schema.tables WHERE table_schema = 'public' \")\n",
    "\n",
    "for table in cursor.fetchall():\n",
    "    print(table)"
   ],
   "metadata": {
    "collapsed": false
   }
  },
  {
   "cell_type": "code",
   "execution_count": 477,
   "outputs": [
    {
     "name": "stdout",
     "output_type": "stream",
     "text": [
      "File opened in memory\n"
     ]
    }
   ],
   "source": [
    "# Insert Values to table\n",
    "\n",
    "# Save df to csv\n",
    "df.to_csv('customer_contracts.csv', header=df.columns, index=False, encoding='utf-8')\n",
    "\n",
    "# Open the csv file, save it as an object\n",
    "my_file = open('customer_contracts.csv')\n",
    "print(\"File opened in memory\")"
   ],
   "metadata": {
    "collapsed": false
   }
  },
  {
   "cell_type": "code",
   "execution_count": 478,
   "outputs": [
    {
     "name": "stdout",
     "output_type": "stream",
     "text": [
      "File copied to db\n"
     ]
    }
   ],
   "source": [
    "# Upload to db\n",
    "SQL_STATEMENT = \"\"\"\n",
    "COPY customer_contracts FROM STDIN WITH\n",
    "    CSV\n",
    "    HEADER\n",
    "    DELIMITER AS ','\n",
    "\"\"\"\n",
    "\n",
    "cursor.copy_expert(sql=SQL_STATEMENT, file=my_file)\n",
    "print(\"File copied to db\")"
   ],
   "metadata": {
    "collapsed": false
   }
  },
  {
   "cell_type": "code",
   "execution_count": 479,
   "outputs": [
    {
     "name": "stdout",
     "output_type": "stream",
     "text": [
      "Table customer_contracts to imported to db completed\n"
     ]
    }
   ],
   "source": [
    "cursor.execute(\"grant select on table customer_contracts to public\")\n",
    "conn.commit()\n",
    "\n",
    "cursor.close()\n",
    "print(\"Table customer_contracts to imported to db completed\")"
   ],
   "metadata": {
    "collapsed": false
   }
  }
 ],
 "metadata": {
  "kernelspec": {
   "display_name": "csv-db-automation",
   "language": "python",
   "name": "python3"
  },
  "language_info": {
   "codemirror_mode": {
    "name": "ipython",
    "version": 3
   },
   "file_extension": ".py",
   "mimetype": "text/x-python",
   "name": "python",
   "nbconvert_exporter": "python",
   "pygments_lexer": "ipython3",
   "version": "3.10.9 (main, Dec 15 2022, 17:11:09) [Clang 14.0.0 (clang-1400.0.29.202)]"
  },
  "vscode": {
   "interpreter": {
    "hash": "71bbcd558c3d30467c4b385dab74cc142db1ceadc99d52ea60fa74f86d5e0da6"
   }
  }
 },
 "nbformat": 4,
 "nbformat_minor": 0
}
